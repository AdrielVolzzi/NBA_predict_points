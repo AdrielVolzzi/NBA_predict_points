{
 "cells": [
  {
   "cell_type": "code",
   "execution_count": 4,
   "metadata": {},
   "outputs": [],
   "source": [
    "import pandas as pd\n",
    "from numpy import mean"
   ]
  },
  {
   "cell_type": "code",
   "execution_count": 5,
   "metadata": {},
   "outputs": [],
   "source": [
    "df_games = pd.read_csv('nba_games-bask.csv', sep=',')\n",
    "df_games['player_name'] = df_games['player_name'].str.upper()   "
   ]
  },
  {
   "cell_type": "markdown",
   "metadata": {},
   "source": [
    "# Por Time"
   ]
  },
  {
   "cell_type": "code",
   "execution_count": 6,
   "metadata": {
    "scrolled": true
   },
   "outputs": [
    {
     "name": "stdout",
     "output_type": "stream",
     "text": [
      "ATL\n",
      "BKN\n",
      "BOS\n",
      "CHA\n",
      "CHI\n",
      "CLE\n",
      "DAL\n",
      "DEN\n",
      "DET\n",
      "GSW\n",
      "HOU\n",
      "IND\n",
      "LAC\n",
      "LAL\n",
      "MEM\n",
      "MIA\n",
      "MIL\n",
      "MIN\n",
      "NOP\n",
      "NYK\n",
      "OKC\n",
      "ORL\n",
      "PHI\n",
      "PHX\n",
      "POR\n",
      "SAC\n",
      "SAS\n",
      "TOR\n",
      "UTA\n",
      "WAS\n"
     ]
    }
   ],
   "source": [
    "df_players = pd.read_csv('nba_players.csv')\n",
    "df_teams = pd.read_csv('nba_teams.csv')\n",
    "for i in df_teams['team']:\n",
    "    print(i)"
   ]
  },
  {
   "cell_type": "code",
   "execution_count": 13,
   "metadata": {
    "scrolled": true
   },
   "outputs": [
    {
     "name": "stdout",
     "output_type": "stream",
     "text": [
      "Escreva a abreviação do time desejado: nop\n",
      "A pontuação esperada de JOSE ALVARADO é: 8\n",
      "A pontuação esperada de DYSON DANIELS é: 4\n",
      "A pontuação esperada de DEVONTE' GRAHAM é: 8\n",
      "A pontuação esperada de JAXSON HAYES é: 8\n",
      "A pontuação esperada de BRANDON INGRAM é: 22\n",
      "A pontuação esperada de HERBERT JONES é: 10\n",
      "A pontuação esperada de KIRA LEWIS JR. é: 6\n",
      "A pontuação esperada de NAJI MARSHALL é: 8\n",
      "A pontuação esperada de CJ MCCOLLUM é: 22\n",
      "A pontuação esperada de TREY MURPHY III é: 9\n",
      "A pontuação esperada de LARRY NANCE JR. é: 7\n",
      "A pontuação esperada de DEREON SEABRON é: 1\n",
      "A pontuação esperada de GARRETT TEMPLE é: 4\n",
      "A pontuação esperada de JONAS VALANČIŪNAS é: 17\n",
      "A pontuação esperada de ZION WILLIAMSON é: 27\n"
     ]
    }
   ],
   "source": [
    "nome_time = input('Escreva a abreviação do time desejado: ').upper()\n",
    "time = df_players.query(f'team == \"{nome_time}\"')\n",
    "time.reset_index(drop=True, inplace=True)\n",
    "\n",
    "players = (time['player'].str.upper()).tolist()\n",
    "\n",
    "for nome_jogador in players:\n",
    "    player = df_games.query(f'player_name == \"{nome_jogador.upper()}\"')\n",
    "    player.reset_index(drop=True, inplace=True)\n",
    "    x = len(player)\n",
    "\n",
    "    quinze = player.loc[(x-15):x]\n",
    "    trinta = player.loc[(x-45):(x-16)]\n",
    "    sessenta = player.loc[(x-120):(x-61)]\n",
    "\n",
    "    media_min = player['min'].mean()\n",
    "    pontos = sum(quinze['pts']) * 6 + sum(trinta['pts']) * 3 + sum(sessenta['pts'])\n",
    "    minutos = sum(quinze['min']) * 6 + sum(trinta['min']) * 3 + sum(sessenta['min'])\n",
    "    \n",
    "    try:\n",
    "        print(f'A pontuação esperada de {nome_jogador} é: {pontos/minutos*media_min:.0f}')\n",
    "    except ZeroDivisionError:\n",
    "        pass"
   ]
  },
  {
   "cell_type": "markdown",
   "metadata": {},
   "source": [
    "# Por Jogador"
   ]
  },
  {
   "cell_type": "code",
   "execution_count": 15,
   "metadata": {
    "scrolled": true
   },
   "outputs": [
    {
     "name": "stdout",
     "output_type": "stream",
     "text": [
      "Escreva o nome do jogador desejado: Alperen Sengun\n"
     ]
    },
  
   ],
   "source": [
    "nome_jogador = input('Escreva o nome do jogador desejado: ').upper()\n",
    "\n",
    "player = df_games.query(f'player_name == \"{nome_jogador.upper()}\"')\n",
    "player.reset_index(drop=True, inplace=True)\n",
    "x = len(player)\n",
    "\n",
    "quinze = player.loc[(x-15):x]\n",
    "trinta = player.loc[(x-45):(x-16)]\n",
    "sessenta = player.loc[(x-120):(x-61)]\n",
    "\n",
    "media_min = player['min'].mean()\n",
    "pontos = sum(quinze['pts']) * 6 + sum(trinta['pts']) * 3 + sum(sessenta['pts'])\n",
    "minutos = sum(quinze['min']) * 6 + sum(trinta['min']) * 3 + sum(sessenta['min'])\n",
    "\n",
    "print(f'A pontuação esperada de {nome_jogador} é: {pontos/minutos*media_min:.0f}')"
   ]
  }
 ],
 "metadata": {
  "kernelspec": {
   "display_name": "Python 3",
   "language": "python",
   "name": "python3"
  },
  "language_info": {
   "codemirror_mode": {
    "name": "ipython",
    "version": 3
   },
   "file_extension": ".py",
   "mimetype": "text/x-python",
   "name": "python",
   "nbconvert_exporter": "python",
   "pygments_lexer": "ipython3",
   "version": "3.8.5"
  }
 },
 "nbformat": 4,
 "nbformat_minor": 4
}
